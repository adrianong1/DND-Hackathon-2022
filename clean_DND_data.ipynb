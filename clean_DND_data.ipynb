{
  "nbformat": 4,
  "nbformat_minor": 0,
  "metadata": {
    "colab": {
      "name": "clean_DND_data.ipynb",
      "provenance": []
    },
    "kernelspec": {
      "name": "python3",
      "display_name": "Python 3"
    },
    "language_info": {
      "name": "python"
    }
  },
  "cells": [
    {
      "cell_type": "code",
      "execution_count": null,
      "metadata": {
        "id": "mcs4Y747_Dzp"
      },
      "outputs": [],
      "source": [
        "import pandas as pd\n",
        "import numpy as np\n",
        "from langdetect import detect\n",
        "\n",
        "# ----- Define language detection functions -----\n",
        "def isFrench(aString):\n",
        "  if detect(aString) == 'fr':\n",
        "    return True\n",
        "  else:\n",
        "    return False\n",
        "\n",
        "def isEnglish(aString):\n",
        "  if detect(aString) == 'en':\n",
        "    return True\n",
        "  else:\n",
        "    return False\n",
        "\n",
        "# ----- Separate original file into separate language files -----\n",
        "csvDf = pd.read_csv('manabvndataset-abvn.csv', delimiter=',')\n",
        "\n",
        "abbrev_eng = csvDf['Abbreviation']\n",
        "term_eng = csvDf['Term']\n",
        "frame_eng = {'Abbreviation': abbrev_eng, 'Term': term_eng}\n",
        "frame_eng_df = pd.DataFrame(frame_eng)\n",
        "\n",
        "abbrev_fr = csvDf['Abréviation']\n",
        "term_fr = csvDf['Terme']\n",
        "frame_fr = {'Abréviation': abbrev_fr, 'Terme': term_fr}\n",
        "frame_fr_df = pd.DataFrame(frame_fr)\n",
        "\n",
        "print(\"Initial Length Eng: \", len(frame_eng_df))\n",
        "print(\"Initial Length Fr: \", len(frame_fr_df))\n",
        "\n",
        "# ----- Remove rows with empty abbreviations ----- \n",
        "frame_eng_df['Abbreviation'].replace('', np.nan, inplace=True)\n",
        "frame_eng_df.dropna(subset=['Abbreviation'], inplace=True)\n",
        "frame_fr_df['Abréviation'].replace('', np.nan, inplace=True)\n",
        "frame_fr_df.dropna(subset=['Abréviation'], inplace=True)\n",
        "\n",
        "print(\"\\nLength Eng (Remove Empty Abbreviations): \", len(frame_eng_df))\n",
        "print(\"Length Fr (Remove Empty Abbreviations): \", len(frame_fr_df))\n",
        "\n",
        "# ----- Make sure language is consistent -----\n",
        "frame_eng_df = frame_eng_df[frame_eng_df['Term'].map(lambda x: isEnglish(x))]\n",
        "frame_fr_df = frame_fr_df[frame_fr_df['Terme'].map(lambda x: isFrench(x))]\n",
        "\n",
        "print(\"\\nLength Eng (Filtered Language): \", len(frame_eng_df))\n",
        "print(\"Length Fr (Filtered Language): \", len(frame_fr_df))\n",
        "\n",
        "# ----- Remove duplicate rows -----\n",
        "frame_eng_df = frame_eng_df.drop_duplicates()\n",
        "frame_fr_df = frame_fr_df.drop_duplicates()\n",
        "\n",
        "print(\"\\nLength Eng (Removed Duplicates): \", len(frame_eng_df))\n",
        "print(\"Length Fr (Removed Duplicates): \", len(frame_fr_df))\n",
        "\n",
        "# ----- Export into CSV files -----\n",
        "#frame_eng_df.to_csv('Abbrev_English.csv', index=False)\n",
        "#frame_fr_df.to_csv('Abbrev_French.csv', index=False)"
      ]
    }
  ]
}